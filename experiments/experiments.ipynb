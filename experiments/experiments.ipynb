{
 "cells": [
  {
   "cell_type": "code",
   "execution_count": 10,
   "metadata": {},
   "outputs": [],
   "source": [
    "from pymongo.mongo_client import MongoClient\n",
    "\n",
    "url = \"mongodb://localhost:27017\"\n",
    "\n",
    "client = MongoClient(url)"
   ]
  },
  {
   "cell_type": "code",
   "execution_count": 5,
   "metadata": {},
   "outputs": [
    {
     "data": {
      "text/plain": [
       "['admin', 'config', 'local', 'mydb']"
      ]
     },
     "execution_count": 5,
     "metadata": {},
     "output_type": "execute_result"
    }
   ],
   "source": [
    "client.list_database_names()"
   ]
  },
  {
   "cell_type": "code",
   "execution_count": 8,
   "metadata": {},
   "outputs": [
    {
     "data": {
      "text/plain": [
       "Database(MongoClient(host=['localhost:27017'], document_class=dict, tz_aware=False, connect=True), 'youtube_test')"
      ]
     },
     "execution_count": 8,
     "metadata": {},
     "output_type": "execute_result"
    }
   ],
   "source": [
    "database = client[\"youtube_test\"]\n",
    "database"
   ]
  },
  {
   "cell_type": "code",
   "execution_count": 11,
   "metadata": {},
   "outputs": [
    {
     "data": {
      "text/plain": [
       "['admin', 'config', 'local', 'mydb']"
      ]
     },
     "execution_count": 11,
     "metadata": {},
     "output_type": "execute_result"
    }
   ],
   "source": [
    "client.list_database_names()"
   ]
  },
  {
   "cell_type": "code",
   "execution_count": 12,
   "metadata": {},
   "outputs": [
    {
     "data": {
      "text/plain": [
       "[]"
      ]
     },
     "execution_count": 12,
     "metadata": {},
     "output_type": "execute_result"
    }
   ],
   "source": [
    "database.list_collection_names()"
   ]
  },
  {
   "cell_type": "code",
   "execution_count": 13,
   "metadata": {},
   "outputs": [
    {
     "data": {
      "text/plain": [
       "Collection(Database(MongoClient(host=['localhost:27017'], document_class=dict, tz_aware=False, connect=True), 'youtube_test'), 'topics')"
      ]
     },
     "execution_count": 13,
     "metadata": {},
     "output_type": "execute_result"
    }
   ],
   "source": [
    "collection = database[\"topics\"]\n",
    "collection"
   ]
  },
  {
   "cell_type": "code",
   "execution_count": 14,
   "metadata": {},
   "outputs": [
    {
     "data": {
      "text/plain": [
       "[]"
      ]
     },
     "execution_count": 14,
     "metadata": {},
     "output_type": "execute_result"
    }
   ],
   "source": [
    "database.list_collection_names()"
   ]
  },
  {
   "cell_type": "code",
   "execution_count": 15,
   "metadata": {},
   "outputs": [
    {
     "data": {
      "text/plain": [
       "['admin', 'config', 'local', 'mydb', 'youtube_test']"
      ]
     },
     "execution_count": 15,
     "metadata": {},
     "output_type": "execute_result"
    }
   ],
   "source": [
    "data = {\"Video\": \"Test1\", \"author\": \"Diljyot Singh\"}\n",
    "collection.insert_one(data)\n",
    "client.list_database_names()"
   ]
  },
  {
   "cell_type": "code",
   "execution_count": 16,
   "metadata": {},
   "outputs": [],
   "source": [
    "client.drop_database(\"mydb\")"
   ]
  },
  {
   "cell_type": "code",
   "execution_count": 17,
   "metadata": {},
   "outputs": [
    {
     "data": {
      "text/plain": [
       "['admin', 'config', 'local', 'youtube_test']"
      ]
     },
     "execution_count": 17,
     "metadata": {},
     "output_type": "execute_result"
    }
   ],
   "source": [
    "client.list_database_names()"
   ]
  },
  {
   "cell_type": "code",
   "execution_count": 19,
   "metadata": {},
   "outputs": [],
   "source": [
    "all_records = collection.find()"
   ]
  },
  {
   "cell_type": "code",
   "execution_count": 20,
   "metadata": {},
   "outputs": [
    {
     "name": "stdout",
     "output_type": "stream",
     "text": [
      "0 {'_id': ObjectId('65e104ca79ce90dc74b67fd3'), 'Video': 'Test1', 'author': 'Diljyot Singh'}\n"
     ]
    }
   ],
   "source": [
    "for id, record in enumerate(all_records):\n",
    "    print(id, record)"
   ]
  },
  {
   "cell_type": "code",
   "execution_count": 21,
   "metadata": {},
   "outputs": [
    {
     "name": "stdout",
     "output_type": "stream",
     "text": [
      "0 {'_id': ObjectId('65e104ca79ce90dc74b67fd3'), 'Video': 'Test1', 'author': 'Diljyot Singh'}\n",
      "1 {'_id': ObjectId('65e106bf79ce90dc74b67fd4'), 'Video': 'Test2', 'author': 'Diljyot Singh'}\n",
      "2 {'_id': ObjectId('65e106bf79ce90dc74b67fd5'), 'Video': 'Test3', 'description': 'Its a test Video'}\n"
     ]
    }
   ],
   "source": [
    "data = [{\"Video\": \"Test2\", \"author\": \"Diljyot Singh\"},\n",
    "        {\"Video\": \"Test3\", \"description\": \"Its a test Video\"}]\n",
    "collection.insert_many(data)\n",
    "all_records = collection.find()\n",
    "for id, record in enumerate(all_records):\n",
    "    print(id, record)"
   ]
  },
  {
   "cell_type": "code",
   "execution_count": null,
   "metadata": {},
   "outputs": [],
   "source": [
    "from typing import Any\n",
    "import os\n",
    "import pandas as pd\n",
    "from pymongo.mongo_client import MongoClient\n",
    "import json\n",
    "from ensure import ensure_annotations\n",
    "\n",
    "\n",
    "class mongo_operation:\n",
    "    __collection=None # here i have created a private/protected variable\n",
    "    __database=None\n",
    "    \n",
    "    def __init__(self,client_url: str, database_name: str, collection_name: str=None):\n",
    "        self.client_url=client_url\n",
    "        self.database_name=database_name\n",
    "        self.collection_name=collection_name\n",
    "       \n",
    "    def create_mongo_client(self,collection=None):\n",
    "        client=MongoClient(self.client_url)\n",
    "        return client\n",
    "    \n",
    "    def create_database(self,collection=None):\n",
    "        if mongo_operation.__database==None:\n",
    "            client=self.create_mongo_client(collection)\n",
    "            self.database=client[self.database_name]\n",
    "        return self.database \n",
    "    \n",
    "    def create_collection(self,collection=None):\n",
    "        if mongo_operation.__collection==None:\n",
    "            database=self.create_database(collection)\n",
    "            self.collection=database[self.collection_name]\n",
    "            mongo_operation.__collection=collection\n",
    "        \n",
    "        if mongo_operation.__collection!=collection:\n",
    "            database=self.create_database(collection)\n",
    "            self.collection=database[self.collection_name]\n",
    "            mongo_operation.__collection=collection\n",
    "            \n",
    "        return self.collection\n",
    "    \n",
    "    def insert_record(self,record: dict, collection_name: str) -> Any:\n",
    "        if type(record) == list:\n",
    "            for data in record:\n",
    "                if type(data) != dict:\n",
    "                    raise TypeError(\"record must be in the dict\")    \n",
    "            collection=self.create_collection(collection_name)\n",
    "            collection.insert_many(record)\n",
    "        elif type(record)==dict:\n",
    "            collection=self.create_collection(collection_name)\n",
    "            collection.insert_one(record)\n",
    "    \n",
    "    def bulk_insert(self,datafile,collection_name:str=None):\n",
    "        self.path=datafile\n",
    "        \n",
    "        if self.path.endswith('.csv'):\n",
    "            pd.read_csv(self.path,encoding='utf-8')\n",
    "            \n",
    "        elif self.path.endswith(\".xlsx\"):\n",
    "            dataframe=pd.read_excel(self.path,encoding='utf-8')\n",
    "            \n",
    "        datajson=json.loads(dataframe.to_json(orient='record'))\n",
    "        collection=self.create_collection(collection_name)\n",
    "        collection.insert_many(datajson)"
   ]
  }
 ],
 "metadata": {
  "kernelspec": {
   "display_name": "package",
   "language": "python",
   "name": "python3"
  },
  "language_info": {
   "codemirror_mode": {
    "name": "ipython",
    "version": 3
   },
   "file_extension": ".py",
   "mimetype": "text/x-python",
   "name": "python",
   "nbconvert_exporter": "python",
   "pygments_lexer": "ipython3",
   "version": "3.11.8"
  }
 },
 "nbformat": 4,
 "nbformat_minor": 2
}
